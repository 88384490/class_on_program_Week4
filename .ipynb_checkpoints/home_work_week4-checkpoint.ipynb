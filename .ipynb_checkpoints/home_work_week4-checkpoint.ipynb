{
 "cells": [
  {
   "cell_type": "code",
   "execution_count": 1,
   "metadata": {},
   "outputs": [],
   "source": [
    "file_name = \"scores.txt\""
   ]
  },
  {
   "cell_type": "code",
   "execution_count": 2,
   "metadata": {},
   "outputs": [],
   "source": [
    "#判断分数的等级"
   ]
  },
  {
   "cell_type": "code",
   "execution_count": 3,
   "metadata": {},
   "outputs": [],
   "source": [
    "def scores_livel_judge(scores = 0): #\n",
    "    if (scores > 101):\n",
    "        return('impossibility') #return 返回函数的结果\n",
    "    elif scores > 80:\n",
    "        return('High Distinction')\n",
    "    elif scores > 70:\n",
    "        return('Distinction')\n",
    "    elif scores > 60:\n",
    "        return('Credit')\n",
    "    elif scores > 50:\n",
    "        return('pass')\n",
    "    elif scores > 0:\n",
    "        return('you is GG')"
   ]
  },
  {
   "cell_type": "code",
   "execution_count": 4,
   "metadata": {},
   "outputs": [],
   "source": [
    "#将文本的分数进行输出,使用循环将文本中的数字赋值到line里，再将line的值加入到名为“list1”的list中"
   ]
  },
  {
   "cell_type": "code",
   "execution_count": 13,
   "metadata": {},
   "outputs": [],
   "source": [
    "def read_scores(fileName): \n",
    "    try:\n",
    "        f = open(fileName,\"r\")\n",
    "    except(IoError):\n",
    "        print(\"no such file\")\n",
    "    list1 = []\n",
    "    for line in f:\n",
    "        list1.append(int(line))\n",
    "    return list1"
   ]
  },
  {
   "cell_type": "code",
   "execution_count": 14,
   "metadata": {},
   "outputs": [
    {
     "data": {
      "text/plain": [
       "[50, 20, 40, 50, 78, 84, 100, 24, 87, 33]"
      ]
     },
     "execution_count": 14,
     "metadata": {},
     "output_type": "execute_result"
    }
   ],
   "source": [
    "read_scores(\"scores.txt\")\n"
   ]
  },
  {
   "cell_type": "code",
   "execution_count": 15,
   "metadata": {},
   "outputs": [],
   "source": [
    "def summary(fileName):\n",
    "    score_list = read_scores(fileName)\n",
    "    dicts = {}\n",
    "    for score in score_list:\n",
    "        score_level = scores_livel_judge(score)\n",
    "        if score_level in dicts:\n",
    "            dicts[score_level] += 1\n",
    "        else:\n",
    "            dicts[score_level] = 1\n",
    "    return dicts"
   ]
  },
  {
   "cell_type": "raw",
   "metadata": {
    "collapsed": true
   },
   "source": []
  },
  {
   "cell_type": "code",
   "execution_count": 16,
   "metadata": {},
   "outputs": [
    {
     "data": {
      "text/plain": [
       "{'Distinction': 1, 'High Distinction': 3, 'you is GG': 6}"
      ]
     },
     "execution_count": 16,
     "metadata": {},
     "output_type": "execute_result"
    }
   ],
   "source": [
    "summary(\"scores.txt\")"
   ]
  },
  {
   "cell_type": "code",
   "execution_count": null,
   "metadata": {
    "collapsed": true
   },
   "outputs": [],
   "source": []
  }
 ],
 "metadata": {
  "kernelspec": {
   "display_name": "Python 3",
   "language": "python",
   "name": "python3"
  },
  "language_info": {
   "codemirror_mode": {
    "name": "ipython",
    "version": 3
   },
   "file_extension": ".py",
   "mimetype": "text/x-python",
   "name": "python",
   "nbconvert_exporter": "python",
   "pygments_lexer": "ipython3",
   "version": "3.5.1"
  },
  "widgets": {
   "application/vnd.jupyter.widget-state+json": {
    "state": {},
    "version_major": 2,
    "version_minor": 0
   }
  }
 },
 "nbformat": 4,
 "nbformat_minor": 2
}
